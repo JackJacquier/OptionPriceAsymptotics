{
 "cells": [
  {
   "cell_type": "markdown",
   "metadata": {},
   "source": [
    "Small-time asymptotics of at-the-money option prices in exponential Levy models\n",
    "---\n",
    "***"
   ]
  },
  {
   "cell_type": "markdown",
   "metadata": {},
   "source": [
    "This is an implementation of the results in the paper\n",
    "Johannes Muhle-Karbe and Marcel Nutz.\n",
    "\"Small-time asymptotics of option prices and first absolute moments\". \n",
    "(Journal of Applied Probability, 48(4): 1003-1020, 2011).\n",
    "We focus on the framework from Section 4 of this paper, relative to models with infinite variation."
   ]
  },
  {
   "cell_type": "markdown",
   "metadata": {},
   "source": [
    "General setup\n",
    "----"
   ]
  },
  {
   "cell_type": "markdown",
   "metadata": {},
   "source": [
    "Consider a pure jump martingale process of the form\n",
    "$$\n",
    "S = S_0 + \\kappa(x) \\ast \\Big(N-F(\\mathrm{d}x)\\mathrm{d}t\\Big),\n",
    "$$\n",
    "for some predictable integrand $\\kappa$, where $N$ is a Poisson random measure with compensator $F(\\mathrm{d}x)\\mathrm{d}t$.\n",
    "We assume that $\\kappa_t$ converges in some suitable sense to $\\kappa_0$, and that the resulting process\n",
    "$$\n",
    "Z = S_0 + \\kappa_0(x) \\ast \\Big(N-F(\\mathrm{d}x)\\mathrm{d}t\\Big)\n",
    "$$\n",
    "has $(\\lambda_+, \\lambda_-)$-like small jumps, e.g its Levy measure satisfies\n",
    "$$\n",
    "\\nu_{Z}(\\mathrm{d}x) = \\left(\\frac{f(x)}{|x|^{1+\\lambda_{-}}}\\mathbb{1}_{(-\\infty, 0)}(x) + \\frac{f(x)}{|x|^{1+\\lambda_{+}}}\\mathbb{1}_{(0,\\infty)}(x)\\right)\\mathrm{d}x,\n",
    "$$\n",
    "where$\\lambda_-, \\lambda_+ \\in (0,2)$ such that $\\max(\\lambda_-,\\lambda_+) \\in (1,2)$.\n",
    "The function $f$ is Borel non-negative and has left and right limits  $f_-$ and $f_+$ at the origin such that\n",
    "$$\n",
    "f(x) - f_+ = \\mathcal{O}(x) \\quad\\text{ as } x\\downarrow 0\n",
    "\\qquad\\text{and}\\qquad\n",
    "f(x) - f_- = \\mathcal{O}(x) \\quad\\text{ as } x\\uparrow 0.\n",
    "$$\n",
    "Introduce the constant $C(\\lambda_+, \\lambda_-, f_+, f_-)>0$ as\n",
    "\\begin{equation*}\n",
    "C(\\lambda_+, \\lambda_-, f_+, f_-) := \\left\\{\n",
    "\\begin{array}{ll}\n",
    "\\widetilde{C}(\\lambda_+, f_+,f_-), & \\text{if } \\lambda_+=\\lambda_-,\\\\\n",
    "\\widetilde{C}(\\lambda_+, f_+,0), & \\text{if } \\lambda_+>\\lambda_-,\\\\\n",
    "\\widetilde{C}(\\lambda_-, 0,f_-), & \\text{if } \\lambda_+<\\lambda_-.\n",
    "\\end{array}\n",
    "\\right.\n",
    "\\end{equation*}\n",
    "where\n",
    "$$\n",
    "\\widetilde{C}(\\lambda, f_+, f_-):=\\frac{(f_+ + f_-)^{1/\\lambda}}{\\pi}\\Gamma\\left(1-\\frac{1}{\\lambda}\\right)\n",
    "\\left[1+\\left(\\frac{f_+ - f_-}{f_+ + f_-}\\right)\\tan\\left(\\frac{\\lambda\\pi}{2}\\right)^2\\right]^{\\frac{1}{2\\lambda}}\n",
    "\\cos\\left(\\frac{1}{\\lambda}\\mathrm{arctan}\\left(\\frac{f_+ - f_-}{f_+ + f_-}\\tan\\left(\\frac{\\lambda\\pi}{2}\\right)\\right)\\right).\n",
    "$$\n",
    "Here, $\\Gamma$ denotes the standard Gamma function.\n",
    "Muhle-Karbe and Nutz proved that, is $\\widetilde{\\lambda}:=\\max(\\lambda_-, \\lambda_+) \\in (1,2)$, then the following holds (Theorem 4.4):\n",
    "$$\n",
    "\\mathbb{E}\\left[(S_T-S_0)_+\\right] = C(\\lambda_+, \\lambda_-, f_+, f_-)\\  T^{1/\\widetilde{\\lambda}} + o\\left(T^{1/\\widetilde{\\lambda}}\\right),\n",
    "$$\n",
    "as the maturity $T$ tends to zero.\n",
    "In the case where $f_+=f_-$, the expression for $\\widetilde{C}(\\lambda, f_+, f_-)$ simplifies to\n",
    "$$\n",
    "\\widetilde{C}(\\lambda, f_+, f_-) = \\widetilde{C}(\\lambda, 1, 1) =\n",
    "\\frac{2^{1/\\lambda}}{\\pi}\\Gamma\\left(1-\\frac{1}{\\lambda}\\right)\\left[1+\\tan\\left(\\frac{\\lambda\\pi}{2}\\right)^2\\right]^{\\frac{1}{2\\lambda}},\n",
    "$$\n",
    "and hence \n",
    "$$\n",
    "\\overline{C}\\left(\\widetilde{\\lambda}\\right) := C(\\lambda_+, \\lambda_-, f_+, f_-) = \\widetilde{C}(\\widetilde{\\lambda}, 1,1).\n",
    "$$"
   ]
  },
  {
   "cell_type": "markdown",
   "metadata": {},
   "source": [
    "Application\n",
    "---"
   ]
  },
  {
   "cell_type": "markdown",
   "metadata": {},
   "source": [
    "Consider now an exponential Levy process of the form $S = \\exp{X}$, where $X$ is a pure jump evy process starting from $X_0=0$, with Levy density given by\n",
    "$$\n",
    "\\nu_{X}(\\mathrm{d}x) = \\mathrm{e}^{x}\\left(\\frac{1}{|\\mathrm{e}^{x}-1|^{1+\\lambda_{-}}}\\mathbb{1}_{(-\\infty, 0)}(x)\n",
    "+ \\frac{\\mathrm{e}^{-(1+\\eta)x}}{|\\mathrm{e}^{x}-1|^{1+\\lambda_{+}}}\\mathbb{1}_{(0,\\infty)}(x)\\right)\\mathrm{d}x,\n",
    "$$\n",
    "for some $\\eta\\geq 0$ and $\\lambda_-, \\lambda_ \\in (0,2)$ with $\\widetilde{\\lambda}:=\\max(\\lambda_-, \\lambda_+)\\in (1,2)$.\n",
    "This specification ensures that, for any $t\\geq 0$,\n",
    "$\\mathbb{E}\\left[S_t^{1+u}\\right]$\n",
    "is finite for all $u \\in [0, \\lambda_+ + \\eta)$.\n",
    "The constant drift $\\mu$ of the Levy process is chosen such that \n",
    "$$\n",
    "\\mu = -\\int_{\\mathbb{R}}\\left(\\mathrm{e}^{x}-1-x\\mathbb{1}_{\\{|x|\\leq 1\\}}\\right)\\nu(\\mathrm{d}x),\n",
    "$$\n",
    "ensuring that the stock price process is a true martingale.\n",
    "Standard calculus on Levy processes show that the dynamics of $S$ can be written as \n",
    "$$\n",
    "\\mathrm{d}S_t = \\int_{\\mathbb{R}}S_{t^-}\\left(\\mathrm{e}^{x}-1\\right)\\Big(N(\\mathrm{d}d, \\mathrm{d}x, - \\nu_{X}(\\mathrm{d}x)\\mathrm{d}t\\Big), \n",
    "$$\n",
    "where $N$ is the random measure of the Levy process $X$, which clearly implies that the approximating process $Z$ introduced above satisfies\n",
    "$$\n",
    "\\mathrm{d}Z_t = \\int_{\\mathbb{R}}\\left(\\mathrm{e}^{x}-1\\right)\\Big(N(\\mathrm{d}d, \\mathrm{d}x, - \\nu_{X}(\\mathrm{d}x)\\mathrm{d}t\\Big), \n",
    "$$\n",
    "so that with the change of variable $z:=\\mathrm{e}^{x}-1$, we deduce that the Levy measure of $Z$ reads\n",
    "$$\n",
    "\\nu_{Z}(\\mathrm{d}z) = \\left(\\frac{1}{|z|^{1+\\lambda_{-}}}\\mathbb{1}_{(-\\infty, 0)}(z)\n",
    "+ \\frac{(1+z)^{-(1+\\eta)}}{|z|^{1+\\lambda_{+}}}\\mathbb{1}_{(0,\\infty)}(z)\\right)\\mathrm{d}z,\n",
    "$$\n",
    "which corresponds to the Muhle-Karbe - Nutz setting with $f(\\cdot)\\equiv 1$."
   ]
  },
  {
   "cell_type": "markdown",
   "metadata": {},
   "source": [
    "Numerical application\n",
    "---"
   ]
  },
  {
   "cell_type": "code",
   "execution_count": 1,
   "metadata": {},
   "outputs": [],
   "source": [
    "from scipy.integrate import quad\n",
    "from scipy.special import gamma\n",
    "import cmath\n",
    "import matplotlib.pyplot as plt\n",
    "import numpy as np"
   ]
  },
  {
   "cell_type": "code",
   "execution_count": 15,
   "metadata": {},
   "outputs": [],
   "source": [
    "class explevy():\n",
    "    \n",
    "    def __init__(self, lambdaMinus, lambdaPlus, alpha, eta):\n",
    "        self.lam = lambdaMinus\n",
    "        self.lap = lambdaPlus\n",
    "        self.la = np.maximum(self.lam,self.lap)\n",
    "        self.alpha = alpha ## Carr-Madan dampening factor\n",
    "        self.eta = eta\n",
    "        \"\"\"\n",
    "        Compute the drift to ensure that S is a true martingale\n",
    "        \"\"\"\n",
    "        br = -quad(lambda x: self.l_integReal(x, -1j), 10**(-5), 50, limit=1000)[0]\n",
    "        bl = -quad(lambda x: self.l_integReal(x, -1j), -50, -10**(-5), limit=1000)[0]\n",
    "        self.b = bl + br \n",
    "        \n",
    "    def nu(self, x): \n",
    "        ##         Levy measure\n",
    "        y = cmath.e**x\n",
    "        if x < 0:\n",
    "            return y/(abs(y-1.)**(1.+self.lam))\n",
    "        else:\n",
    "            return y**(-(1.+self.eta))/(abs(y-1.)**(1+self.lap))\n",
    "\n",
    "    def l_integReal(self, x, u):\n",
    "        ##         Real part of the integrand in psi below\n",
    "        \n",
    "        y = (cmath.exp(1j*u*x) - 1.)\n",
    "        nx = self.nu(x)\n",
    "        if abs(x) > 1:\n",
    "            return (y*nx).real\n",
    "        else:\n",
    "            return ((y-1j*u*x)*nx).real\n",
    "\n",
    "    def l_integImag(self, x, u):\n",
    "        ##         Imaginary part of the integrand in psi below\n",
    "        \n",
    "        y = (cmath.exp(1j*u*x) - 1.)\n",
    "        nx = self.nu(x)\n",
    "        if abs(x) > 1:\n",
    "            return (y*nx).imag\n",
    "        else:\n",
    "            return ((y-1j*u*x)*nx).imag\n",
    "\n",
    "\n",
    "    def psi(self, u):\n",
    "        ##         Characteristic exponent of the Levy process\n",
    "\n",
    "        jumpNeg = quad(lambda x: self.l_integReal(x, u), -50.0, -1E-5, limit=500)[0] + \\\n",
    "                         1j*quad(lambda x: self.l_integImag(x, u), -50.0, -1E-5, limit=500)[0]\n",
    "        jumpPos = quad(lambda x: self.l_integReal(x, u), 1E-5, 50, limit=500)[0] + \\\n",
    "                          1j*quad(lambda x: self.l_integImag(x, u), 1E-5, 50.0, limit=500)[0]\n",
    "        \n",
    "        return 1j * u * self.b + jumpNeg + jumpPos\n",
    "\n",
    "    def invFourierInteg(self, xi, T, k):\n",
    "        ##         Integrand in the inverse Fourier transform\n",
    "\n",
    "        denom = (self.alpha + 1j*xi)*(1. + self.alpha + 1j*xi)\n",
    "        num = cmath.exp(T*self.psi(xi-(self.alpha+1.)*1j))\n",
    "        return (cmath.exp(-1j*xi*k)*num/denom).real\n",
    "\n",
    "    def callPrice(self, k, T):\n",
    "        ##         Call price by inverse Fourier transform\n",
    "        ## k denotes the log-moneyness\n",
    "\n",
    "        price = quad(lambda xi: self.invFourierInteg(xi, T, k), 0., 10., limit=500)[0]\n",
    "        return (cmath.e**(-self.alpha*k))*price / cmath.pi\n",
    "    \n",
    "    def atm_asymptotic(self, T):\n",
    "        constant = 2**(1./self.la)*gamma(1.-1./self.la)/np.pi *(1.+np.tan(.5*lam*np.pi)**2)**(1/(2.*self.la))\n",
    "        return constant * T**(1./self.la)"
   ]
  },
  {
   "cell_type": "code",
   "execution_count": 20,
   "metadata": {},
   "outputs": [
    {
     "data": {
      "image/png": "[encoded data removed]",
      "text/plain": [
       "<Figure size 432x288 with 1 Axes>"
      ]
     },
     "metadata": {
      "needs_background": "light"
     },
     "output_type": "display_data"
    }
   ],
   "source": [
    "maturities = np.linspace(0.001, 0.1, 20)\n",
    "alpha = 6  # Dampening factor\n",
    "lambdaMinus, lambdaPlus = 1.1, 1.8\n",
    "eta = 8.   # Exponential decay of the Levy measure for positive jumps\n",
    "\n",
    "model = explevy(lambdaMinus, lambdaPlus, alpha, eta)\n",
    "prices = [np.log(model.callPrice(0., m)) for m in maturities]\n",
    "asymptPrices = [np.log(model.atm_asymptotic(m)) for m in maturities]\n",
    "\n",
    "plt.plot(maturities, prices, 'o')\n",
    "plt.plot(maturities, asymptPrices, 'k')\n",
    "plt.xlabel('Time to maturity (in year)')\n",
    "plt.title('At-the-money Call option prices')\n",
    "plt.legend(['Numerical', 'Asymptotics'])\n",
    "plt.show()"
   ]
  }
 ],
 "metadata": {
  "kernelspec": {
   "display_name": "Python 3",
   "language": "python",
   "name": "python3"
  },
  "language_info": {
   "codemirror_mode": {
    "name": "ipython",
    "version": 3
   },
   "file_extension": ".py",
   "mimetype": "text/x-python",
   "name": "python",
   "nbconvert_exporter": "python",
   "pygments_lexer": "ipython3",
   "version": "3.7.6"
  }
 },
 "nbformat": 4,
 "nbformat_minor": 4
}
